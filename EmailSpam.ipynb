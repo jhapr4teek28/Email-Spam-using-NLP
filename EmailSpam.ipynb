{
 "cells": [
  {
   "cell_type": "code",
   "execution_count": 56,
   "id": "ec1d8c99",
   "metadata": {},
   "outputs": [],
   "source": [
    "import pandas as pd\n",
    "import numpy as np\n",
    "import matplotlib.pyplot as plt\n",
    "import tensorflow as tf\n",
    "from sklearn.model_selection import train_test_split "
   ]
  },
  {
   "cell_type": "code",
   "execution_count": 57,
   "id": "ef2cbe86",
   "metadata": {},
   "outputs": [],
   "source": [
    "from tensorflow.keras.preprocessing.text import Tokenizer \n",
    "from tensorflow.keras.preprocessing.sequence import pad_sequences"
   ]
  },
  {
   "cell_type": "code",
   "execution_count": 58,
   "id": "87582720",
   "metadata": {},
   "outputs": [
    {
     "name": "stdout",
     "output_type": "stream",
     "text": [
      "dataset: \n",
      "  Category                                            Message\n",
      "0      ham  Go until jurong point, crazy.. Available only ...\n",
      "1      ham                      Ok lar... Joking wif u oni...\n",
      "2     spam  Free entry in 2 a wkly comp to win FA Cup fina...\n",
      "3      ham  U dun say so early hor... U c already then say...\n",
      "4      ham  Nah I don't think he goes to usf, he lives aro... \n",
      "\n",
      "Null values in the dataset: \n",
      "      Category  Message\n",
      "0        False    False\n",
      "1        False    False\n",
      "2        False    False\n",
      "3        False    False\n",
      "4        False    False\n",
      "...        ...      ...\n",
      "5567     False    False\n",
      "5568     False    False\n",
      "5569     False    False\n",
      "5570     False    False\n",
      "5571     False    False\n",
      "\n",
      "[5572 rows x 2 columns] \n",
      "\n",
      "Sum of Null values in each column: \n",
      "Category    0\n",
      "Message     0\n",
      "dtype: int64 \n",
      "\n",
      "dataset: \n",
      "   Category                                            Message\n",
      "0         0  Go until jurong point, crazy.. Available only ...\n",
      "1         0                      Ok lar... Joking wif u oni...\n",
      "2         1  Free entry in 2 a wkly comp to win FA Cup fina...\n",
      "3         0  U dun say so early hor... U c already then say...\n",
      "4         0  Nah I don't think he goes to usf, he lives aro... \n",
      "\n"
     ]
    }
   ],
   "source": [
    "df = pd.read_csv('SpamEmail.csv')\n",
    "print('dataset: ')\n",
    "\n",
    "print(df.head(), '\\n')\n",
    "print('Null values in the dataset: ')\n",
    "\n",
    "print(df.isnull(), '\\n')\n",
    "print('Sum of Null values in each column: ')\n",
    "\n",
    "print(df.isnull().sum(), '\\n')\n",
    "\n",
    "df[\"Category\"] = [1 if each == \"spam\" else 0 for each in df[\"Category\"]]\n",
    "\n",
    "print('dataset: ')\n",
    "print(df.head(), '\\n')"
   ]
  },
  {
   "cell_type": "code",
   "execution_count": 59,
   "id": "3ed031ac",
   "metadata": {},
   "outputs": [
    {
     "name": "stdout",
     "output_type": "stream",
     "text": [
      "Type of X: <class 'numpy.ndarray'>\n",
      "Shape of X: (5572, 1)\n"
     ]
    }
   ],
   "source": [
    "X = df.iloc[:,1].values\n",
    "X = X.reshape(-1,1)\n",
    "print('Type of X:', type(X))\n",
    "print('Shape of X:', X.shape)\n"
   ]
  },
  {
   "cell_type": "code",
   "execution_count": 60,
   "id": "cd751b14",
   "metadata": {},
   "outputs": [
    {
     "name": "stdout",
     "output_type": "stream",
     "text": [
      "Type of Y;  <class 'numpy.ndarray'>\n",
      "Shape of Y:  (5572, 1)\n"
     ]
    }
   ],
   "source": [
    "Y = df.iloc[:, 0].values\n",
    "y = Y.reshape(-1, 1)\n",
    "print('Type of Y; ', type(Y))\n",
    "print('Shape of Y: ', y.shape)"
   ]
  },
  {
   "cell_type": "code",
   "execution_count": 61,
   "id": "b7782a26",
   "metadata": {},
   "outputs": [
    {
     "name": "stdout",
     "output_type": "stream",
     "text": [
      "Length of X:  5572 \n",
      "\n"
     ]
    }
   ],
   "source": [
    "X = X.tolist()\n",
    "y = y.tolist()\n",
    "print('Length of X: ', len(X), '\\n')"
   ]
  },
  {
   "cell_type": "code",
   "execution_count": 62,
   "id": "7765b193",
   "metadata": {},
   "outputs": [
    {
     "name": "stdout",
     "output_type": "stream",
     "text": [
      "Length of training samples  4572 \n",
      "\n",
      "Length of testing samples 1000 \n",
      "\n"
     ]
    }
   ],
   "source": [
    "X_train = X[1000:]\n",
    "y_train = y[1000:]\n",
    "print('Length of training samples ', len(X_train), '\\n')\n",
    "\n",
    "X_test = X[0: 1000]\n",
    "y_test = y[0:1000]\n",
    "print('Length of testing samples', len(X_test), '\\n')"
   ]
  },
  {
   "cell_type": "code",
   "execution_count": 63,
   "id": "6ef0865f",
   "metadata": {},
   "outputs": [],
   "source": [
    "#X_train,X_test,y_train,y_test = train_test_split(X,y,test_size = 0.2)"
   ]
  },
  {
   "cell_type": "code",
   "execution_count": 64,
   "id": "088a0735",
   "metadata": {},
   "outputs": [
    {
     "name": "stdout",
     "output_type": "stream",
     "text": [
      "length of training sample:  4572\n",
      "length of testing sample:  1000\n"
     ]
    }
   ],
   "source": [
    "print(\"length of training sample: \", len(X_train))\n",
    "print(\"length of testing sample: \", len(X_test))"
   ]
  },
  {
   "cell_type": "code",
   "execution_count": 65,
   "id": "5980f012",
   "metadata": {},
   "outputs": [],
   "source": [
    "tokenizer = Tokenizer(num_words=30000, oov_token='<UNK>')\n",
    "tokenizer.fit_on_texts(X_train)\n",
    "\n",
    "word_index = tokenizer.word_index"
   ]
  },
  {
   "cell_type": "code",
   "execution_count": 66,
   "id": "490189db",
   "metadata": {},
   "outputs": [],
   "source": [
    "Training_Sequences = tokenizer.texts_to_sequences(X_train)\n",
    "Training_pad = pad_sequences(Training_Sequences, maxlen=32, padding='post', truncating='post')\n",
    "\n",
    "Testing_Sequences = tokenizer.texts_to_sequences(X_test)\n",
    "Testing_pad = pad_sequences(Testing_Sequences, maxlen=32, padding='post', truncating='post')"
   ]
  },
  {
   "cell_type": "code",
   "execution_count": 67,
   "id": "83a0dcb8",
   "metadata": {},
   "outputs": [],
   "source": [
    "model = tf.keras.Sequential()\n",
    "model.add(tf.keras.layers.Embedding(30000, 16, input_length=32))\n",
    "model.add(tf.keras.layers.Bidirectional(tf.keras.layers.LSTM(64, return_sequences=True)))\n",
    "model.add(tf.keras.layers.Bidirectional(tf.keras.layers.LSTM(64)))\n",
    "model.add(tf.keras.layers.Flatten())\n",
    "model.add(tf.keras.layers.Dense(24, activation='relu'))\n",
    "model.add(tf.keras.layers.Dense(1, activation='sigmoid'))"
   ]
  },
  {
   "cell_type": "code",
   "execution_count": 68,
   "id": "3f923411",
   "metadata": {},
   "outputs": [
    {
     "name": "stdout",
     "output_type": "stream",
     "text": [
      "Model: \"sequential_3\"\n",
      "_________________________________________________________________\n",
      " Layer (type)                Output Shape              Param #   \n",
      "=================================================================\n",
      " embedding_3 (Embedding)     (None, 32, 16)            480000    \n",
      "                                                                 \n",
      " bidirectional_6 (Bidirectio  (None, 32, 128)          41472     \n",
      " nal)                                                            \n",
      "                                                                 \n",
      " bidirectional_7 (Bidirectio  (None, 128)              98816     \n",
      " nal)                                                            \n",
      "                                                                 \n",
      " flatten_3 (Flatten)         (None, 128)               0         \n",
      "                                                                 \n",
      " dense_6 (Dense)             (None, 24)                3096      \n",
      "                                                                 \n",
      " dense_7 (Dense)             (None, 1)                 25        \n",
      "                                                                 \n",
      "=================================================================\n",
      "Total params: 623,409\n",
      "Trainable params: 623,409\n",
      "Non-trainable params: 0\n",
      "_________________________________________________________________\n"
     ]
    }
   ],
   "source": [
    "model.summary()"
   ]
  },
  {
   "cell_type": "code",
   "execution_count": 69,
   "id": "10b87fb3",
   "metadata": {},
   "outputs": [],
   "source": [
    "Training_Sequences_padded = np.asarray(Training_pad)\n",
    "Testing_Sequences_padded = np.asarray(Testing_pad)\n",
    "\n",
    "y_train = np.asarray(y_train)\n",
    "y_test = np.asarray(y_test)\n"
   ]
  },
  {
   "cell_type": "code",
   "execution_count": 70,
   "id": "2a0d1403",
   "metadata": {},
   "outputs": [
    {
     "name": "stdout",
     "output_type": "stream",
     "text": [
      "Epoch 1/15\n",
      "143/143 [==============================] - 10s 40ms/step - loss: 0.4134 - accuracy: 0.8664 - val_loss: 0.4658 - val_accuracy: 0.8480\n",
      "Epoch 2/15\n",
      "143/143 [==============================] - 5s 33ms/step - loss: 0.3887 - accuracy: 0.8699 - val_loss: 0.4245 - val_accuracy: 0.8480\n",
      "Epoch 3/15\n",
      "143/143 [==============================] - 5s 34ms/step - loss: 0.1937 - accuracy: 0.9364 - val_loss: 2.8101 - val_accuracy: 0.2300\n",
      "Epoch 4/15\n",
      "143/143 [==============================] - 5s 35ms/step - loss: 0.0017 - accuracy: 1.0000 - val_loss: 0.4766 - val_accuracy: 0.8820\n",
      "Epoch 5/15\n",
      "143/143 [==============================] - 5s 34ms/step - loss: 3.6248e-04 - accuracy: 1.0000 - val_loss: 0.5316 - val_accuracy: 0.8820\n",
      "Epoch 6/15\n",
      "143/143 [==============================] - 5s 33ms/step - loss: 1.9697e-04 - accuracy: 1.0000 - val_loss: 0.5696 - val_accuracy: 0.8820\n",
      "Epoch 7/15\n",
      "143/143 [==============================] - 5s 35ms/step - loss: 1.2849e-04 - accuracy: 1.0000 - val_loss: 0.5990 - val_accuracy: 0.8820\n",
      "Epoch 8/15\n",
      "143/143 [==============================] - 5s 34ms/step - loss: 9.1754e-05 - accuracy: 1.0000 - val_loss: 0.6234 - val_accuracy: 0.8820\n",
      "Epoch 9/15\n",
      "143/143 [==============================] - 5s 34ms/step - loss: 6.9133e-05 - accuracy: 1.0000 - val_loss: 0.6449 - val_accuracy: 0.8820\n",
      "Epoch 10/15\n",
      "143/143 [==============================] - 5s 34ms/step - loss: 5.4012e-05 - accuracy: 1.0000 - val_loss: 0.6641 - val_accuracy: 0.8820\n",
      "Epoch 11/15\n",
      "143/143 [==============================] - 5s 33ms/step - loss: 4.3329e-05 - accuracy: 1.0000 - val_loss: 0.6815 - val_accuracy: 0.8820\n",
      "Epoch 12/15\n",
      "143/143 [==============================] - 5s 33ms/step - loss: 3.5465e-05 - accuracy: 1.0000 - val_loss: 0.6975 - val_accuracy: 0.8820\n",
      "Epoch 13/15\n",
      "143/143 [==============================] - 5s 33ms/step - loss: 2.9493e-05 - accuracy: 1.0000 - val_loss: 0.7126 - val_accuracy: 0.8820\n",
      "Epoch 14/15\n",
      "143/143 [==============================] - 5s 34ms/step - loss: 2.4845e-05 - accuracy: 1.0000 - val_loss: 0.7267 - val_accuracy: 0.8820\n",
      "Epoch 15/15\n",
      "143/143 [==============================] - 5s 34ms/step - loss: 2.1156e-05 - accuracy: 1.0000 - val_loss: 0.7401 - val_accuracy: 0.8820\n"
     ]
    }
   ],
   "source": [
    "EPOCHS = 15\n",
    "model.compile(optimizer='adam', loss='binary_crossentropy', metrics=['accuracy'])\n",
    "history = model.fit(Training_Sequences_padded, y_train, validation_data=(Testing_Sequences_padded, y_test), epochs=15)"
   ]
  },
  {
   "cell_type": "code",
   "execution_count": 71,
   "id": "2f0184c4",
   "metadata": {},
   "outputs": [
    {
     "data": {
      "image/png": "[encoded data removed]",
      "text/plain": [
       "<Figure size 432x288 with 1 Axes>"
      ]
     },
     "metadata": {
      "needs_background": "light"
     },
     "output_type": "display_data"
    },
    {
     "data": {
      "image/png": "[encoded data removed]",
      "text/plain": [
       "<Figure size 432x288 with 1 Axes>"
      ]
     },
     "metadata": {
      "needs_background": "light"
     },
     "output_type": "display_data"
    }
   ],
   "source": [
    "def Plot(history, string):\n",
    "    plt.plot(history.history[string])\n",
    "    plt.plot(history.history['val_' + string])\n",
    "    plt.xlabel(\"EPOCHS\")\n",
    "    plt.ylabel(string)\n",
    "    plt.legend([string, 'val_' + string ])\n",
    "    plt.savefig(string + '.png')\n",
    "    plt.show()\n",
    "    \n",
    "    \n",
    "Plot(history, \"accuracy\")\n",
    "Plot(history, \"loss\")\n"
   ]
  },
  {
   "cell_type": "code",
   "execution_count": 74,
   "id": "17818ac1",
   "metadata": {},
   "outputs": [
    {
     "name": "stdout",
     "output_type": "stream",
     "text": [
      "Upto 50% off on electronics, shop now\n",
      "Done\n",
      "(1, 32)\n",
      "1/1 [==============================] - 0s 16ms/step\n",
      "spam\n",
      "output class:  [[0.9999526]]\n"
     ]
    }
   ],
   "source": [
    "text = 'Upto 50% off on electronics, shop now'\n",
    "print(text)\n",
    "Test = tokenizer.texts_to_sequences([text])[0]\n",
    "Test_padded = pad_sequences([Test], maxlen=32, padding='post', truncating='post')\n",
    "Test_padded = np.asarray(Test_padded)\n",
    "print('Done')\n",
    "print(Test_padded.shape)\n",
    "ypred = model.predict(Test_padded)\n",
    "if ypred[0][0]>0.5:\n",
    "    print('spam')\n",
    "else: print('Not spam')\n",
    "print('output class: ', ypred)"
   ]
  },
  {
   "cell_type": "code",
   "execution_count": 84,
   "id": "eee5209d",
   "metadata": {},
   "outputs": [
    {
     "name": "stdout",
     "output_type": "stream",
     "text": [
      "32/32 [==============================] - 0s 10ms/step\n",
      "(1000, 1)\n"
     ]
    }
   ],
   "source": [
    "y_pred = model.predict(Testing_Sequences_padded)\n",
    "classes_x=np.argmax(y_pred,axis=1)\n",
    "print(y_pred.shape)"
   ]
  },
  {
   "cell_type": "code",
   "execution_count": 90,
   "id": "ad572aea",
   "metadata": {},
   "outputs": [
    {
     "name": "stdout",
     "output_type": "stream",
     "text": [
      "Accuracy of the model is 84.8 %\n"
     ]
    }
   ],
   "source": [
    "from sklearn.metrics import accuracy_score\n",
    "print(\"Accuracy of the model is\",(accuracy_score(y_test, classes_x)*100), \"%\")"
   ]
  },
  {
   "cell_type": "code",
   "execution_count": null,
   "id": "96030fc2",
   "metadata": {},
   "outputs": [],
   "source": []
  }
 ],
 "metadata": {
  "kernelspec": {
   "display_name": "Python 3 (ipykernel)",
   "language": "python",
   "name": "python3"
  },
  "language_info": {
   "codemirror_mode": {
    "name": "ipython",
    "version": 3
   },
   "file_extension": ".py",
   "mimetype": "text/x-python",
   "name": "python",
   "nbconvert_exporter": "python",
   "pygments_lexer": "ipython3",
   "version": "3.10.4"
  }
 },
 "nbformat": 4,
 "nbformat_minor": 5
}
